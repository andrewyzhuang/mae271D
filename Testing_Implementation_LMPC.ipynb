{
  "nbformat": 4,
  "nbformat_minor": 0,
  "metadata": {
    "colab": {
      "provenance": []
    },
    "kernelspec": {
      "name": "python3",
      "display_name": "Python 3"
    },
    "language_info": {
      "name": "python"
    }
  },
  "cells": [
    {
      "cell_type": "code",
      "source": [
        "# Import Needed Libraries\n",
        "import numpy as np\n",
        "import cvxpy as cp"
      ],
      "metadata": {
        "id": "nVZp-KeLryJC"
      },
      "execution_count": 2,
      "outputs": []
    },
    {
      "cell_type": "code",
      "source": [
        "# Function\n",
        "# Initial feasible trajectory (for initialization of sample safe set) using brute-force or open-loop control\n",
        "def initial_feasible_trajectory():\n",
        "    x = xS.copy()\n",
        "    traj_x = [x.copy()]\n",
        "    traj_u = []\n",
        "    for _ in range(30):\n",
        "        # Simple damped control toward origin\n",
        "        u = np.clip(-x[0] - x[1], u_min[0], u_max[0])\n",
        "        u = np.array([u]) # Reshape u to be a 1-dimensional array\n",
        "        x = A @ x + B @ u\n",
        "        traj_x.append(x.copy())\n",
        "        traj_u.append(u)\n",
        "        if np.linalg.norm(x - xF) < tol:\n",
        "            break\n",
        "    return np.array(traj_x), np.array(traj_u)"
      ],
      "metadata": {
        "id": "AsJc7IY4r-sI"
      },
      "execution_count": 3,
      "outputs": []
    },
    {
      "cell_type": "code",
      "source": [
        "# Function\n",
        "# LMPC optimization solver with sampled safe set and terminal cost\n",
        "# Use in each iteration of LMPC\n",
        "def solve_lmpc(A, B, Q, R, N, x0, ss_x, ss_cost, x_min, x_max, u_min, u_max):\n",
        "    n, m = B.shape\n",
        "    x = cp.Variable((n, N+1))\n",
        "    u = cp.Variable((m, N))\n",
        "    cost = 0\n",
        "    constraints = [x[:, 0] == x0]\n",
        "\n",
        "    # Construct cost and constraints\n",
        "    for k in range(N):\n",
        "        cost += cp.quad_form(x[:, k], Q) + cp.quad_form(u[:, k], R)\n",
        "        constraints += [\n",
        "            x[:, k+1] == A @ x[:, k] + B @ u[:, k],\n",
        "            x_min <= x[:, k], x[:, k] <= x_max,\n",
        "            u_min <= u[:, k], u[:, k] <= u_max\n",
        "        ]\n",
        "\n",
        "    # Terminal constraint: final state must match a sampled safe point\n",
        "    if len(ss_x) > 0:\n",
        "        # Terminal cost-to-go from sampled safe set\n",
        "        # Find the closest point in the safe set\n",
        "        min_distance = float('inf')  # Initialize with a large value\n",
        "        closest_point_index = -1\n",
        "\n",
        "        for i, s in enumerate(ss_x):\n",
        "            distance = cp.norm(x[:, N] - s, 2)\n",
        "            # Use cp.min to find the minimum distance within cvxpy\n",
        "            if distance.value is not None and distance.value < min_distance:  # Compare distance values\n",
        "                min_distance = distance.value\n",
        "                closest_point_index = i\n",
        "\n",
        "      # Add the terminal cost associated with the closest point\n",
        "        if closest_point_index != -1:\n",
        "          cost += ss_cost[closest_point_index]\n",
        "\n",
        "\n",
        "    # Terminal state should still satisfy bounds\n",
        "    constraints += [x_min <= x[:, N], x[:, N] <= x_max]\n",
        "\n",
        "    prob = cp.Problem(cp.Minimize(cost), constraints) # problem\n",
        "    prob.solve(solver=cp.OSQP) # apply solver to problem\n",
        "\n",
        "    return u[:, 0].value"
      ],
      "metadata": {
        "id": "T5ej-VULsKGQ"
      },
      "execution_count": 4,
      "outputs": []
    },
    {
      "cell_type": "code",
      "source": [
        "# Problem setup\n",
        "\n",
        "# Dynamics\n",
        "A = np.array([[1, 1],\n",
        "              [0, 1]])\n",
        "B = np.array([[0],\n",
        "              [1]])\n",
        "\n",
        "# Cost Weights\n",
        "Q = np.eye(2)\n",
        "R = np.eye(1)\n",
        "\n",
        "# Constraints\n",
        "x_min = np.array([-4, -4])\n",
        "x_max = np.array([4, 4])\n",
        "u_min = np.array([-1])\n",
        "u_max = np.array([1])\n",
        "\n",
        "# Horizon\n",
        "N = 4\n",
        "\n",
        "# Inital/Final States\n",
        "xS = np.array([-3.95, -0.05]) # inital state x0\n",
        "xF = np.array([0.0, 0.0]) # final desired state [0,0]\n",
        "tol = 1e-3\n",
        "max_iters = 3\n",
        "max_steps = 100"
      ],
      "metadata": {
        "id": "KbjOf-uHteiD"
      },
      "execution_count": 5,
      "outputs": []
    },
    {
      "cell_type": "code",
      "execution_count": 6,
      "metadata": {
        "colab": {
          "base_uri": "https://localhost:8080/"
        },
        "id": "GQMc7tlTrs_m",
        "outputId": "3396db6f-4b53-4411-98a7-17040fd264cb"
      },
      "outputs": [
        {
          "output_type": "stream",
          "name": "stdout",
          "text": [
            "Starting LMPC...\n",
            "\n",
            "=== Iteration 1 ===\n",
            "Iteration 1 cost: 49.9291\n",
            "Sampled Safe Set size: 44 points\n",
            "Initial state: [-3.95 -0.05]\n",
            "First few controls: [ 0.99999973  0.46000032 -0.47199996]\n",
            "First few states after control: [[-4.          0.94999973]\n",
            " [-3.05000027  1.41000005]\n",
            " [-1.64000022  0.9380001 ]]\n",
            "Last point in new trajectory: [ 0.00074408 -0.0006309 ]\n",
            "Distance to final target xF: 0.0010\n",
            "\n",
            "=== Iteration 2 ===\n",
            "Iteration 2 cost: 49.9291\n",
            "Sampled Safe Set size: 57 points\n",
            "Initial state: [-3.95 -0.05]\n",
            "First few controls: [ 0.99999973  0.46000032 -0.47199996]\n",
            "First few states after control: [[-4.          0.94999973]\n",
            " [-3.05000027  1.41000005]\n",
            " [-1.64000022  0.9380001 ]]\n",
            "Last point in new trajectory: [ 0.00074408 -0.0006309 ]\n",
            "Distance to final target xF: 0.0010\n",
            "\n",
            "LMPC completed.\n"
          ]
        }
      ],
      "source": [
        "# Implement\n",
        "\n",
        "# LMPC loop initalizations\n",
        "safe_set = []\n",
        "safe_cost = []\n",
        "trajectories = []\n",
        "print(\"Starting LMPC...\")\n",
        "\n",
        "# Initialize with a feasible trajectory for first iteration\n",
        "x_traj, u_traj = initial_feasible_trajectory()\n",
        "trajectories.append((x_traj, u_traj))\n",
        "safe_set.extend(x_traj)\n",
        "safe_cost.extend([np.sum([x.T @ Q @ x + u.T @ R @ u for x, u in zip(x_traj[t:], u_traj[t:] + [np.zeros_like(u_traj[0])])]) for t in range(len(x_traj))])\n",
        "\n",
        "# Iterate LMPC loop\n",
        "for j in range(1, max_iters):\n",
        "    print(f\"\\n=== Iteration {j} ===\")\n",
        "    x = xS.copy()\n",
        "    x_traj = [x.copy()]\n",
        "    u_traj = []\n",
        "    for step in range(max_steps):\n",
        "        u = solve_lmpc(A, B, Q, R, N, x, safe_set, safe_cost, x_min, x_max, u_min, u_max)\n",
        "        x = A @ x + B @ u\n",
        "        x_traj.append(x.copy())\n",
        "        u_traj.append(u)\n",
        "        if np.linalg.norm(x - xF) < tol:\n",
        "            break\n",
        "\n",
        "    # Store trajectory\n",
        "    x_traj = np.array(x_traj)\n",
        "    u_traj = np.array(u_traj)\n",
        "    trajectories.append((x_traj, u_traj))\n",
        "\n",
        "\n",
        "    # Update safe set and cost\n",
        "    safe_set.extend(x_traj)\n",
        "\n",
        "    for t in range(len(x_traj)):\n",
        "      sub_cost = sum(\n",
        "          x.T @ Q @ x + u.T @ R @ u\n",
        "          for x, u in zip(x_traj[t:-1], u_traj[t:])\n",
        "      )\n",
        "      sub_cost += x_traj[-1].T @ Q @ x_traj[-1]  # terminal state cost\n",
        "      safe_cost.append(sub_cost)\n",
        "\n",
        "    # Compute and print iteration cost\n",
        "    iter_cost = sum(\n",
        "    x.T @ Q @ x + u.T @ R @ u\n",
        "    for x, u in zip(x_traj[:-1], u_traj)\n",
        ")\n",
        "    final_cost = x_traj[-1].T @ Q @ x_traj[-1]\n",
        "    total_cost = iter_cost + final_cost\n",
        "    print(f\"Iteration {j} cost: {total_cost:.4f}\")\n",
        "\n",
        "    print(f\"Sampled Safe Set size: {len(safe_set)} points\")\n",
        "\n",
        "    # Debug: print first few states and controls of the current trajectory\n",
        "    print(\"Initial state:\", x_traj[0])\n",
        "    print(\"First few controls:\", u_traj[:3].flatten())\n",
        "    print(\"First few states after control:\", x_traj[1:4])\n",
        "\n",
        "    print(f\"Last point in new trajectory: {x_traj[-1]}\")\n",
        "    print(f\"Distance to final target xF: {np.linalg.norm(x_traj[-1] - xF):.4f}\")\n",
        "\n",
        "\n",
        "print(\"\\nLMPC completed.\")\n",
        "\n"
      ]
    },
    {
      "cell_type": "code",
      "source": [],
      "metadata": {
        "id": "yPFCMtc4rwZs"
      },
      "execution_count": null,
      "outputs": []
    }
  ]
}