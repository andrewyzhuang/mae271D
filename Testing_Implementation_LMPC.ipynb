{
  "nbformat": 4,
  "nbformat_minor": 0,
  "metadata": {
    "colab": {
      "provenance": [],
      "authorship_tag": "ABX9TyMhJZdyMOBoHYOybBBJYKXA",
      "include_colab_link": true
    },
    "kernelspec": {
      "name": "python3",
      "display_name": "Python 3"
    },
    "language_info": {
      "name": "python"
    }
  },
  "cells": [
    {
      "cell_type": "markdown",
      "metadata": {
        "id": "view-in-github",
        "colab_type": "text"
      },
      "source": [
        "<a href=\"https://colab.research.google.com/github/andrewyzhuang/mae271D/blob/Janet_Ann_Weird_Existing_Code/Testing_Implementation_LMPC.ipynb\" target=\"_parent\"><img src=\"https://colab.research.google.com/assets/colab-badge.svg\" alt=\"Open In Colab\"/></a>"
      ]
    },
    {
      "cell_type": "code",
      "source": [
        "# Import Needed Libraries\n",
        "import numpy as np\n",
        "import cvxpy as cp\n",
        "import pdb"
      ],
      "metadata": {
        "id": "nVZp-KeLryJC"
      },
      "execution_count": 1,
      "outputs": []
    },
    {
      "cell_type": "code",
      "source": [
        "# Function\n",
        "# Initial feasible trajectory (for initialization of sample safe set) using brute-force or open-loop control\n",
        "# Function to compute initial feasible trajectory using a naive controller\n",
        "def initial_trajectory(A, B, Q, R, x0, xF, u_min, u_max, tol, max_steps):\n",
        "    x_traj = [x0]\n",
        "    u_traj = []\n",
        "    x = x0.copy()\n",
        "    for _ in range(max_steps):\n",
        "        # Weak, inefficient control: slow damping of velocity\n",
        "        u = np.clip(-0.2 * x[1] - 0.01 * x[0], u_min, u_max)\n",
        "        x = A @ x + B @ u\n",
        "        x_traj.append(x.copy())\n",
        "        u_traj.append(np.array([u]))\n",
        "        if np.linalg.norm(x - xF) < tol:\n",
        "            break\n",
        "    return np.array(x_traj), np.array(u_traj)"
      ],
      "metadata": {
        "id": "AsJc7IY4r-sI"
      },
      "execution_count": 49,
      "outputs": []
    },
    {
      "cell_type": "code",
      "source": [
        "# Function\n",
        "# Compute cost-to-go for each point in trajectory\n",
        "def compute_cost_to_go(x_traj, u_traj, Q, R):\n",
        "    costs = []\n",
        "    for t in range(len(x_traj)):\n",
        "      cost = 0.0 # Initialize cost as a float\n",
        "      # Iterate over the future trajectory from the current point t\n",
        "      for k in range(t, len(x_traj) - 1):\n",
        "        x = x_traj[k]\n",
        "        u = u_traj[k]\n",
        "        # Ensure cost contributions are added as scalars\n",
        "        cost += (x.T @ Q @ x).item() + (u.T @ R @ u).item()\n",
        "\n",
        "      # Add terminal cost from the last state, ensuring it's a scalar\n",
        "      if len(x_traj) > 0: # Check if trajectory is not empty\n",
        "        cost += (x_traj[-1].T @ Q @ x_traj[-1]).item()\n",
        "\n",
        "      costs.append(cost)\n",
        "    return np.array(costs)"
      ],
      "metadata": {
        "id": "XIp8WlLRzS0N"
      },
      "execution_count": 56,
      "outputs": []
    },
    {
      "cell_type": "code",
      "source": [
        "# Function\n",
        "# LMPC optimization solver with sampled safe set and terminal cost\n",
        "# Use in each iteration of LMPC\n",
        "def solve_lmpc(A, B, Q, R, N, x0, Qj, x_min, x_max, u_min, u_max):\n",
        "    n, m = B.shape\n",
        "    x = cp.Variable((n, N+1))\n",
        "    u = cp.Variable((m, N))\n",
        "    cost = 0\n",
        "    constraints = [x[:, 0] == x0]\n",
        "\n",
        "    # Construct cost and constraints\n",
        "    for k in range(N):\n",
        "        cost += cp.quad_form(x[:, k], Q) + cp.quad_form(u[:, k], R)\n",
        "        constraints += [\n",
        "            x[:, k+1] == A @ x[:, k] + B @ u[:, k],\n",
        "            x_min <= x[:, k], x[:, k] <= x_max,\n",
        "            u_min <= u[:, k], u[:, k] <= u_max\n",
        "        ]\n",
        "\n",
        "    # Terminal state should still satisfy bounds\n",
        "    constraints += [x_min <= x[:, N], x[:, N] <= x_max]\n",
        "\n",
        "\n",
        "    # Add the terminal cost\n",
        "    cost += Qj\n",
        "\n",
        "\n",
        "    prob = cp.Problem(cp.Minimize(cost), constraints) # problem\n",
        "    prob.solve(solver=cp.OSQP) # apply solver to problem\n",
        "\n",
        "    return u[:, 0].value"
      ],
      "metadata": {
        "id": "T5ej-VULsKGQ"
      },
      "execution_count": 64,
      "outputs": []
    },
    {
      "cell_type": "code",
      "source": [
        "# Problem setup\n",
        "\n",
        "# Dynamics\n",
        "A = np.array([[1, 1],\n",
        "              [0, 1]])\n",
        "B = np.array([[0],\n",
        "              [1]])\n",
        "\n",
        "# Cost Weights\n",
        "Q = np.eye(2)\n",
        "R = np.eye(1)\n",
        "\n",
        "# Constraints\n",
        "x_min = np.array([-4, -4])\n",
        "x_max = np.array([4, 4])\n",
        "u_min = np.array([-1])\n",
        "u_max = np.array([1])\n",
        "\n",
        "# Horizon\n",
        "N = 4\n",
        "\n",
        "# Inital/Final States\n",
        "xS = np.array([-3.95, -0.05]) # inital state x0\n",
        "xF = np.array([0.0, 0.0]) # final desired state [0,0]\n",
        "tol = 1e-3\n",
        "max_iters = 6\n",
        "max_steps = 100"
      ],
      "metadata": {
        "id": "KbjOf-uHteiD"
      },
      "execution_count": 58,
      "outputs": []
    },
    {
      "cell_type": "code",
      "execution_count": 65,
      "metadata": {
        "colab": {
          "base_uri": "https://localhost:8080/"
        },
        "id": "GQMc7tlTrs_m",
        "outputId": "784e7895-1108-416e-9311-96d9b5afc8d5"
      },
      "outputs": [
        {
          "output_type": "stream",
          "name": "stdout",
          "text": [
            "Starting LMPC...\n",
            "\n",
            "=== Iteration 1 ===\n",
            "Iteration 1 cost: 49.9291\n",
            "Sampled Safe Set size: 114 points\n",
            "Initial state: [-3.95 -0.05]\n",
            "First few controls: [ 0.99999973  0.46000032 -0.47199996]\n",
            "First few states after control: [[-4.          0.94999973]\n",
            " [-3.05000027  1.41000005]\n",
            " [-1.64000022  0.9380001 ]]\n",
            "Last point in new trajectory: [ 0.00074408 -0.0006309 ]\n",
            "Distance to final target xF: 0.0010\n",
            "\n",
            "=== Iteration 2 ===\n",
            "Iteration 2 cost: 49.9291\n",
            "Sampled Safe Set size: 127 points\n",
            "Initial state: [-3.95 -0.05]\n",
            "First few controls: [ 0.99999973  0.46000032 -0.47199996]\n",
            "First few states after control: [[-4.          0.94999973]\n",
            " [-3.05000027  1.41000005]\n",
            " [-1.64000022  0.9380001 ]]\n",
            "Last point in new trajectory: [ 0.00074408 -0.0006309 ]\n",
            "Distance to final target xF: 0.0010\n",
            "\n",
            "=== Iteration 3 ===\n",
            "Iteration 3 cost: 49.9291\n",
            "Sampled Safe Set size: 140 points\n",
            "Initial state: [-3.95 -0.05]\n",
            "First few controls: [ 0.99999973  0.46000032 -0.47199996]\n",
            "First few states after control: [[-4.          0.94999973]\n",
            " [-3.05000027  1.41000005]\n",
            " [-1.64000022  0.9380001 ]]\n",
            "Last point in new trajectory: [ 0.00074408 -0.0006309 ]\n",
            "Distance to final target xF: 0.0010\n",
            "\n",
            "=== Iteration 4 ===\n",
            "Iteration 4 cost: 49.9291\n",
            "Sampled Safe Set size: 153 points\n",
            "Initial state: [-3.95 -0.05]\n",
            "First few controls: [ 0.99999973  0.46000032 -0.47199996]\n",
            "First few states after control: [[-4.          0.94999973]\n",
            " [-3.05000027  1.41000005]\n",
            " [-1.64000022  0.9380001 ]]\n",
            "Last point in new trajectory: [ 0.00074408 -0.0006309 ]\n",
            "Distance to final target xF: 0.0010\n",
            "\n",
            "=== Iteration 5 ===\n",
            "Iteration 5 cost: 49.9291\n",
            "Sampled Safe Set size: 166 points\n",
            "Initial state: [-3.95 -0.05]\n",
            "First few controls: [ 0.99999973  0.46000032 -0.47199996]\n",
            "First few states after control: [[-4.          0.94999973]\n",
            " [-3.05000027  1.41000005]\n",
            " [-1.64000022  0.9380001 ]]\n",
            "Last point in new trajectory: [ 0.00074408 -0.0006309 ]\n",
            "Distance to final target xF: 0.0010\n",
            "\n",
            "LMPC completed.\n"
          ]
        }
      ],
      "source": [
        "# Implement\n",
        "\n",
        "# LMPC loop initalizations\n",
        "safe_set = []\n",
        "trajectories = []\n",
        "print(\"Starting LMPC...\")\n",
        "\n",
        "# Initialize with a feasible trajectory for first iteration\n",
        "x_traj, u_traj = initial_trajectory(A, B, Q, R, xS, xF, u_min, u_max, tol=1e-3, max_steps=100)\n",
        "trajectories.append((x_traj, u_traj))\n",
        "safe_set.extend(x_traj)\n",
        "\n",
        "\n",
        "# inital Qj\n",
        "cost_to_go = compute_cost_to_go(x_traj, u_traj, Q, R)\n",
        "Qj_init = np.min(cost_to_go)\n",
        "\n",
        "\n",
        "# Iterate LMPC loop\n",
        "for j in range(1, max_iters):\n",
        "    print(f\"\\n=== Iteration {j} ===\")\n",
        "    x = xS.copy()\n",
        "    x_traj = [x.copy()]\n",
        "    u_traj = []\n",
        "\n",
        "    if j ==1:\n",
        "        Qj = Qj_init\n",
        "\n",
        "    for step in range(max_steps):\n",
        "        u = solve_lmpc(A, B, Q, R, N, x, Qj, x_min, x_max, u_min, u_max)\n",
        "        x = A @ x + B @ u\n",
        "        x_traj.append(x.copy())\n",
        "        u_traj.append(u)\n",
        "        if np.linalg.norm(x - xF) < tol:\n",
        "            break\n",
        "\n",
        "    # Store trajectory\n",
        "    x_traj = np.array(x_traj)\n",
        "    u_traj = np.array(u_traj)\n",
        "    trajectories.append((x_traj, u_traj))\n",
        "\n",
        "    # compute Qj for use in next iteration\n",
        "    Qj = np.min(compute_cost_to_go(x_traj, u_traj, Q, R))\n",
        "\n",
        "\n",
        "    # Update safe set and cost\n",
        "    safe_set.extend(x_traj)\n",
        "\n",
        "    # Compute and print iteration cost\n",
        "    iter_cost = sum(\n",
        "    x.T @ Q @ x + u.T @ R @ u\n",
        "    for x, u in zip(x_traj[:-1], u_traj)\n",
        ")\n",
        "    final_cost = x_traj[-1].T @ Q @ x_traj[-1]\n",
        "    total_cost = iter_cost + final_cost\n",
        "    print(f\"Iteration {j} cost: {total_cost:.4f}\")\n",
        "\n",
        "    print(f\"Sampled Safe Set size: {len(safe_set)} points\")\n",
        "\n",
        "    # Debug: print first few states and controls of the current trajectory\n",
        "    print(\"Initial state:\", x_traj[0])\n",
        "    print(\"First few controls:\", u_traj[:3].flatten())\n",
        "    print(\"First few states after control:\", x_traj[1:4])\n",
        "\n",
        "    print(f\"Last point in new trajectory: {x_traj[-1]}\")\n",
        "    print(f\"Distance to final target xF: {np.linalg.norm(x_traj[-1] - xF):.4f}\")\n",
        "\n",
        "\n",
        "print(\"\\nLMPC completed.\")\n",
        "\n"
      ]
    },
    {
      "cell_type": "code",
      "source": [],
      "metadata": {
        "id": "yPFCMtc4rwZs"
      },
      "execution_count": null,
      "outputs": []
    }
  ]
}